{
  "nbformat": 4,
  "nbformat_minor": 0,
  "metadata": {
    "colab": {
      "provenance": []
    },
    "kernelspec": {
      "name": "python3",
      "display_name": "Python 3"
    },
    "language_info": {
      "name": "python"
    }
  },
  "cells": [
    {
      "cell_type": "code",
      "execution_count": 2,
      "metadata": {
        "colab": {
          "base_uri": "https://localhost:8080/"
        },
        "id": "hG0lXkrHlwOi",
        "outputId": "1a10cbbd-d33b-43ca-c0a2-8409b200281e"
      },
      "outputs": [
        {
          "output_type": "stream",
          "name": "stdout",
          "text": [
            "Requirement already satisfied: pandas in /usr/local/lib/python3.11/dist-packages (2.2.2)\n",
            "Requirement already satisfied: numpy>=1.23.2 in /usr/local/lib/python3.11/dist-packages (from pandas) (2.0.2)\n",
            "Requirement already satisfied: python-dateutil>=2.8.2 in /usr/local/lib/python3.11/dist-packages (from pandas) (2.8.2)\n",
            "Requirement already satisfied: pytz>=2020.1 in /usr/local/lib/python3.11/dist-packages (from pandas) (2025.2)\n",
            "Requirement already satisfied: tzdata>=2022.7 in /usr/local/lib/python3.11/dist-packages (from pandas) (2025.2)\n",
            "Requirement already satisfied: six>=1.5 in /usr/local/lib/python3.11/dist-packages (from python-dateutil>=2.8.2->pandas) (1.17.0)\n"
          ]
        },
        {
          "output_type": "execute_result",
          "data": {
            "text/plain": [
              "[{'params': {'C': 0.1, 'kernel': 'linear'},\n",
              "  'accuracy': 0.8633748501745793,\n",
              "  'precision': 0.8646171326080582,\n",
              "  'recall': 0.8633748501745793,\n",
              "  'f1_score': 0.8581729828231314},\n",
              " {'params': {'C': 1, 'kernel': 'linear'},\n",
              "  'accuracy': 0.8672499869717025,\n",
              "  'precision': 0.8677294651144404,\n",
              "  'recall': 0.8672499869717025,\n",
              "  'f1_score': 0.8628592314533948},\n",
              " {'params': {'C': 1, 'kernel': 'rbf', 'gamma': 'scale'},\n",
              "  'accuracy': 0.8543332117358904,\n",
              "  'precision': 0.8577705121560213,\n",
              "  'recall': 0.8543332117358904,\n",
              "  'f1_score': 0.8468018787833834},\n",
              " {'params': {'C': 10, 'kernel': 'rbf', 'gamma': 'scale'},\n",
              "  'accuracy': 0.8423794882484756,\n",
              "  'precision': 0.839606558719429,\n",
              "  'recall': 0.8423794882484756,\n",
              "  'f1_score': 0.8385847606111888},\n",
              " {'params': {'C': 10, 'kernel': 'rbf', 'gamma': 'auto'},\n",
              "  'accuracy': 0.8423794882484756,\n",
              "  'precision': 0.839606558719429,\n",
              "  'recall': 0.8423794882484756,\n",
              "  'f1_score': 0.8385847606111888}]"
            ]
          },
          "metadata": {},
          "execution_count": 2
        }
      ],
      "source": [
        "!pip install pandas\n",
        "\n",
        "import pandas as pd\n",
        "\n",
        "from sklearn.model_selection import StratifiedKFold\n",
        "from sklearn.preprocessing import StandardScaler\n",
        "from sklearn.svm import SVC\n",
        "from sklearn.metrics import accuracy_score, precision_score, recall_score, f1_score\n",
        "\n",
        "df = pd.read_csv(\"/train_df.csv\")\n",
        "\n",
        "X = df.drop(columns=[\"Target\"])\n",
        "y = df[\"Target\"]\n",
        "\n",
        "skf = StratifiedKFold(n_splits=5, shuffle=True, random_state=42)\n",
        "\n",
        "param_sets = [\n",
        "    {\"C\": 0.1, \"kernel\": \"linear\"},\n",
        "    {\"C\": 1, \"kernel\": \"linear\"},\n",
        "    {\"C\": 1, \"kernel\": \"rbf\", \"gamma\": \"scale\"},\n",
        "    {\"C\": 10, \"kernel\": \"rbf\", \"gamma\": \"scale\"},\n",
        "    {\"C\": 10, \"kernel\": \"rbf\", \"gamma\": \"auto\"},\n",
        "]\n",
        "\n",
        "results = []\n",
        "\n",
        "for params in param_sets:\n",
        "    fold_metrics = []\n",
        "\n",
        "    for train_index, test_index in skf.split(X, y):\n",
        "        X_train, X_test = X.iloc[train_index], X.iloc[test_index]\n",
        "        y_train, y_test = y.iloc[train_index], y.iloc[test_index]\n",
        "\n",
        "        scaler = StandardScaler()\n",
        "        X_train = scaler.fit_transform(X_train)\n",
        "        X_test = scaler.transform(X_test)\n",
        "\n",
        "        model = SVC(**params)\n",
        "        model.fit(X_train, y_train)\n",
        "        y_pred = model.predict(X_test)\n",
        "\n",
        "        accuracy = accuracy_score(y_test, y_pred)\n",
        "        precision = precision_score(y_test, y_pred, average=\"weighted\", zero_division=0)\n",
        "        recall = recall_score(y_test, y_pred, average=\"weighted\", zero_division=0)\n",
        "        f1 = f1_score(y_test, y_pred, average=\"weighted\", zero_division=0)\n",
        "\n",
        "        fold_metrics.append({\"accuracy\": accuracy, \"precision\": precision, \"recall\": recall, \"f1_score\": f1})\n",
        "\n",
        "    avg_metrics = {\n",
        "        \"params\": params,\n",
        "        \"accuracy\": sum(f[\"accuracy\"] for f in fold_metrics) / skf.get_n_splits(),\n",
        "        \"precision\": sum(f[\"precision\"] for f in fold_metrics) / skf.get_n_splits(),\n",
        "        \"recall\": sum(f[\"recall\"] for f in fold_metrics) / skf.get_n_splits(),\n",
        "        \"f1_score\": sum(f[\"f1_score\"] for f in fold_metrics) / skf.get_n_splits(),\n",
        "    }\n",
        "    results.append(avg_metrics)\n",
        "\n",
        "results"
      ]
    }
  ]
}